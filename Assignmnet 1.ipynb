{
  "nbformat": 4,
  "nbformat_minor": 0,
  "metadata": {
    "colab": {
      "provenance": []
    },
    "kernelspec": {
      "name": "python3",
      "display_name": "Python 3"
    },
    "language_info": {
      "name": "python"
    }
  },
  "cells": [
    {
      "cell_type": "code",
      "execution_count": null,
      "metadata": {
        "colab": {
          "base_uri": "https://localhost:8080/"
        },
        "id": "hTCouCDUUnMB",
        "outputId": "2a635dc5-1292-4c24-8214-b27fbcef4530"
      },
      "outputs": [
        {
          "output_type": "stream",
          "name": "stdout",
          "text": [
            "TensorFlow version: 2.19.0\n"
          ]
        }
      ],
      "source": [
        "import tensorflow as tf\n",
        "\n",
        "print(\"TensorFlow version:\", tf.__version__)\n"
      ]
    },
    {
      "cell_type": "code",
      "source": [
        "# Scalar (0D tensor)\n",
        "scalar = tf.constant(10)\n",
        "print(\"Scalar:\", scalar)\n",
        "print(\"Shape:\", scalar.shape)\n",
        "print(\"Rank (dimension):\", tf.rank(scalar).numpy())\n",
        "\n",
        "\n"
      ],
      "metadata": {
        "colab": {
          "base_uri": "https://localhost:8080/"
        },
        "id": "SCGdJgFoU_x_",
        "outputId": "6c0dbea5-a80f-4c32-a10f-07ac540b0fa4"
      },
      "execution_count": null,
      "outputs": [
        {
          "output_type": "stream",
          "name": "stdout",
          "text": [
            "Scalar: tf.Tensor(10, shape=(), dtype=int32)\n",
            "Shape: ()\n",
            "Rank (dimension): 0\n"
          ]
        }
      ]
    },
    {
      "cell_type": "code",
      "source": [
        "# Vector (1D tensor)\n",
        "vector = tf.constant([10, 20, 30])\n",
        "print(\"\\nVector:\", vector)\n",
        "print(\"Shape:\", vector.shape)\n",
        "print(\"Rank:\", tf.rank(vector).numpy())"
      ],
      "metadata": {
        "colab": {
          "base_uri": "https://localhost:8080/"
        },
        "id": "xPGvlfm9VT69",
        "outputId": "8a9b178d-c974-4479-b313-5c54f2ded130"
      },
      "execution_count": null,
      "outputs": [
        {
          "output_type": "stream",
          "name": "stdout",
          "text": [
            "\n",
            "Vector: tf.Tensor([10 20 30], shape=(3,), dtype=int32)\n",
            "Shape: (3,)\n",
            "Rank: 1\n"
          ]
        }
      ]
    },
    {
      "cell_type": "code",
      "source": [
        "# Matrix (2D tensor)\n",
        "matrix = tf.constant([[1, 2, 3], [4, 5, 6]])\n",
        "print(\"\\nMatrix:\\n\", matrix)\n",
        "print(\"Shape:\", matrix.shape)\n",
        "print(\"Rank:\", tf.rank(matrix).numpy())\n"
      ],
      "metadata": {
        "colab": {
          "base_uri": "https://localhost:8080/"
        },
        "id": "vj3pCqhoVCzC",
        "outputId": "6a742867-9f73-45bc-e70d-9ed31bc8e211"
      },
      "execution_count": null,
      "outputs": [
        {
          "output_type": "stream",
          "name": "stdout",
          "text": [
            "\n",
            "Matrix:\n",
            " tf.Tensor(\n",
            "[[1 2 3]\n",
            " [4 5 6]], shape=(2, 3), dtype=int32)\n",
            "Shape: (2, 3)\n",
            "Rank: 2\n"
          ]
        }
      ]
    },
    {
      "cell_type": "code",
      "source": [
        "# 3D Tensor\n",
        "tensor_3d = tf.constant([[[1, 2], [3, 4]], [[5, 6], [7, 8]]])\n",
        "print(\"\\n3D Tensor:\\n\", tensor_3d)\n",
        "print(\"Shape:\", tensor_3d.shape)\n",
        "print(\"Rank:\", tf.rank(tensor_3d).numpy())"
      ],
      "metadata": {
        "colab": {
          "base_uri": "https://localhost:8080/"
        },
        "id": "A0F78AcWVGBo",
        "outputId": "0aff7e69-3523-4758-d131-b3cfdeecf7e2"
      },
      "execution_count": null,
      "outputs": [
        {
          "output_type": "stream",
          "name": "stdout",
          "text": [
            "\n",
            "3D Tensor:\n",
            " tf.Tensor(\n",
            "[[[1 2]\n",
            "  [3 4]]\n",
            "\n",
            " [[5 6]\n",
            "  [7 8]]], shape=(2, 2, 2), dtype=int32)\n",
            "Shape: (2, 2, 2)\n",
            "Rank: 3\n"
          ]
        }
      ]
    },
    {
      "cell_type": "code",
      "source": [
        "a = tf.constant([1, 2, 3], dtype=tf.int32)\n",
        "b = tf.constant([4, 5, 6], dtype=tf.int32)\n",
        "\n",
        "# Element-wise operations\n",
        "print(\"Addition:\", tf.add(a, b).numpy())\n",
        "print(\"Subtraction:\", tf.subtract(a, b).numpy())\n",
        "print(\"Multiplication:\", tf.multiply(a, b).numpy())\n",
        "print(\"Division:\", tf.divide(b, a).numpy())\n"
      ],
      "metadata": {
        "colab": {
          "base_uri": "https://localhost:8080/"
        },
        "id": "mhZllLLTVp_T",
        "outputId": "0d0d3545-6bb6-48ea-e406-13ce854a1d24"
      },
      "execution_count": null,
      "outputs": [
        {
          "output_type": "stream",
          "name": "stdout",
          "text": [
            "Addition: [5 7 9]\n",
            "Subtraction: [-3 -3 -3]\n",
            "Multiplication: [ 4 10 18]\n",
            "Division: [4.  2.5 2. ]\n"
          ]
        }
      ]
    },
    {
      "cell_type": "code",
      "source": [
        "# Dot product\n",
        "dot = tf.tensordot(a, b, axes=1)\n",
        "print(\"Dot Product:\", dot.numpy())\n",
        "\n",
        "# Matrix multiplication\n",
        "mat1 = tf.constant([[1, 2], [3, 4]])\n",
        "mat2 = tf.constant([[5, 6], [7, 8]])\n",
        "matmul = tf.matmul(mat1, mat2)\n",
        "print(\"Matrix Multiplication:\\n\", matmul.numpy())\n"
      ],
      "metadata": {
        "colab": {
          "base_uri": "https://localhost:8080/"
        },
        "id": "6JolM2i8V0QK",
        "outputId": "b4d540a7-2b64-4e2d-f423-4d1a1f812a01"
      },
      "execution_count": null,
      "outputs": [
        {
          "output_type": "stream",
          "name": "stdout",
          "text": [
            "Dot Product: 32\n",
            "Matrix Multiplication:\n",
            " [[19 22]\n",
            " [43 50]]\n"
          ]
        }
      ]
    },
    {
      "cell_type": "code",
      "source": [
        "matrix = tf.constant([[1, 2], [3, 4], [5, 6]])\n",
        "\n",
        "# Reshape (3x2 → 2x3)\n",
        "reshaped = tf.reshape(matrix, [2, 3])\n",
        "print(\"Reshaped:\\n\", reshaped.numpy())\n",
        "\n",
        "# Transpose\n",
        "transposed = tf.transpose(matrix)\n",
        "print(\"\\nTransposed:\\n\", transposed.numpy())\n"
      ],
      "metadata": {
        "colab": {
          "base_uri": "https://localhost:8080/"
        },
        "id": "oMdtq2vEV399",
        "outputId": "9011d11c-3522-4d3e-c8b5-bd498cb23651"
      },
      "execution_count": null,
      "outputs": [
        {
          "output_type": "stream",
          "name": "stdout",
          "text": [
            "Reshaped:\n",
            " [[1 2 3]\n",
            " [4 5 6]]\n",
            "\n",
            "Transposed:\n",
            " [[1 3 5]\n",
            " [2 4 6]]\n"
          ]
        }
      ]
    },
    {
      "cell_type": "code",
      "source": [
        "float_tensor = tf.constant([1.7, 2.3, 3.9], dtype=tf.float32)\n",
        "\n",
        "# Cast float to int\n",
        "int_tensor = tf.cast(float_tensor, dtype=tf.int32)\n",
        "\n",
        "print(\"Original:\", float_tensor.numpy())\n",
        "print(\"Casted:\", int_tensor.numpy())\n"
      ],
      "metadata": {
        "colab": {
          "base_uri": "https://localhost:8080/"
        },
        "id": "vqA6VBn3V6Y3",
        "outputId": "50f68e28-ce13-480f-c468-005ace5b2c98"
      },
      "execution_count": null,
      "outputs": [
        {
          "output_type": "stream",
          "name": "stdout",
          "text": [
            "Original: [1.7 2.3 3.9]\n",
            "Casted: [1 2 3]\n"
          ]
        }
      ]
    },
    {
      "cell_type": "code",
      "source": [
        "matrix = tf.constant([[1, 2], [3, 4]], dtype=tf.float32)\n",
        "\n",
        "print(\"Sum:\", tf.reduce_sum(matrix).numpy())\n",
        "print(\"Mean:\", tf.reduce_mean(matrix).numpy())\n",
        "print(\"Max:\", tf.reduce_max(matrix).numpy())\n",
        "print(\"Min:\", tf.reduce_min(matrix).numpy())\n"
      ],
      "metadata": {
        "colab": {
          "base_uri": "https://localhost:8080/"
        },
        "id": "__KyGuqcV8ol",
        "outputId": "436052ba-37b5-4126-8ce6-851154350a09"
      },
      "execution_count": null,
      "outputs": [
        {
          "output_type": "stream",
          "name": "stdout",
          "text": [
            "Sum: 10.0\n",
            "Mean: 2.5\n",
            "Max: 4.0\n",
            "Min: 1.0\n"
          ]
        }
      ]
    },
    {
      "cell_type": "code",
      "source": [
        "# Define a variable\n",
        "var = tf.Variable([1, 2, 3], dtype=tf.int32)\n",
        "print(\"Before:\", var.numpy())\n",
        "\n",
        "# Assign new values\n",
        "var.assign([4, 5, 6])\n",
        "print(\"After assign:\", var.numpy())\n",
        "\n",
        "# Add to variable\n",
        "var.assign_add([1, 1, 1])\n",
        "print(\"After assign_add:\", var.numpy())\n",
        "\n",
        "# Subtract from variable\n",
        "var.assign_sub([2, 2, 2])\n",
        "print(\"After assign_sub:\", var.numpy())\n"
      ],
      "metadata": {
        "colab": {
          "base_uri": "https://localhost:8080/"
        },
        "id": "gEwj52lTV-8p",
        "outputId": "b5a57817-ac25-49f4-f2dc-95e7c8cd9d91"
      },
      "execution_count": null,
      "outputs": [
        {
          "output_type": "stream",
          "name": "stdout",
          "text": [
            "Before: [1 2 3]\n",
            "After assign: [4 5 6]\n",
            "After assign_add: [5 6 7]\n",
            "After assign_sub: [3 4 5]\n"
          ]
        }
      ]
    }
  ]
}